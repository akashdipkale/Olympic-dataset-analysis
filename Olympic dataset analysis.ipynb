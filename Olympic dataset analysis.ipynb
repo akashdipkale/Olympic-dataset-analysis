{
 "cells": [
  {
   "cell_type": "markdown",
   "id": "c815e632",
   "metadata": {},
   "source": [
    "# Olympic Dataset Analysis (1896-2016)"
   ]
  },
  {
   "cell_type": "markdown",
   "id": "90b2b272",
   "metadata": {},
   "source": [
    "**In this project we will analyse the dataset of olympic of year 1896-2016.**"
   ]
  },
  {
   "cell_type": "code",
   "execution_count": 1,
   "id": "fbfdd44d",
   "metadata": {},
   "outputs": [],
   "source": [
    "import pandas as pd\n",
    "import numpy as np\n",
    "import matplotlib.pyplot as plt\n",
    "import seaborn as sns"
   ]
  },
  {
   "cell_type": "markdown",
   "id": "7e977ea6",
   "metadata": {},
   "source": [
    "# Loading Datasets"
   ]
  },
  {
   "cell_type": "code",
   "execution_count": 2,
   "id": "d75fd17d",
   "metadata": {},
   "outputs": [],
   "source": [
    "df_athletes=pd.read_csv(\"athlete_events.csv\")"
   ]
  },
  {
   "cell_type": "code",
   "execution_count": 3,
   "id": "f43a6cd0",
   "metadata": {},
   "outputs": [],
   "source": [
    "df_regions=pd.read_csv(\"noc_regions.csv\")"
   ]
  },
  {
   "cell_type": "markdown",
   "id": "a870b966",
   "metadata": {},
   "source": [
    "**Lets take a glance at the dataset using head() & tail() function.**"
   ]
  },
  {
   "cell_type": "code",
   "execution_count": 4,
   "id": "4e5ae833",
   "metadata": {},
   "outputs": [
    {
     "data": {
      "text/html": [
       "<div>\n",
       "<style scoped>\n",
       "    .dataframe tbody tr th:only-of-type {\n",
       "        vertical-align: middle;\n",
       "    }\n",
       "\n",
       "    .dataframe tbody tr th {\n",
       "        vertical-align: top;\n",
       "    }\n",
       "\n",
       "    .dataframe thead th {\n",
       "        text-align: right;\n",
       "    }\n",
       "</style>\n",
       "<table border=\"1\" class=\"dataframe\">\n",
       "  <thead>\n",
       "    <tr style=\"text-align: right;\">\n",
       "      <th></th>\n",
       "      <th>ID</th>\n",
       "      <th>Name</th>\n",
       "      <th>Sex</th>\n",
       "      <th>Age</th>\n",
       "      <th>Height</th>\n",
       "      <th>Weight</th>\n",
       "      <th>Team</th>\n",
       "      <th>NOC</th>\n",
       "      <th>Games</th>\n",
       "      <th>Year</th>\n",
       "      <th>Season</th>\n",
       "      <th>City</th>\n",
       "      <th>Sport</th>\n",
       "      <th>Event</th>\n",
       "      <th>Medal</th>\n",
       "    </tr>\n",
       "  </thead>\n",
       "  <tbody>\n",
       "    <tr>\n",
       "      <th>0</th>\n",
       "      <td>1</td>\n",
       "      <td>A Dijiang</td>\n",
       "      <td>M</td>\n",
       "      <td>24.0</td>\n",
       "      <td>180.0</td>\n",
       "      <td>80.0</td>\n",
       "      <td>China</td>\n",
       "      <td>CHN</td>\n",
       "      <td>1992 Summer</td>\n",
       "      <td>1992</td>\n",
       "      <td>Summer</td>\n",
       "      <td>Barcelona</td>\n",
       "      <td>Basketball</td>\n",
       "      <td>Basketball Men's Basketball</td>\n",
       "      <td>NaN</td>\n",
       "    </tr>\n",
       "    <tr>\n",
       "      <th>1</th>\n",
       "      <td>2</td>\n",
       "      <td>A Lamusi</td>\n",
       "      <td>M</td>\n",
       "      <td>23.0</td>\n",
       "      <td>170.0</td>\n",
       "      <td>60.0</td>\n",
       "      <td>China</td>\n",
       "      <td>CHN</td>\n",
       "      <td>2012 Summer</td>\n",
       "      <td>2012</td>\n",
       "      <td>Summer</td>\n",
       "      <td>London</td>\n",
       "      <td>Judo</td>\n",
       "      <td>Judo Men's Extra-Lightweight</td>\n",
       "      <td>NaN</td>\n",
       "    </tr>\n",
       "    <tr>\n",
       "      <th>2</th>\n",
       "      <td>3</td>\n",
       "      <td>Gunnar Nielsen Aaby</td>\n",
       "      <td>M</td>\n",
       "      <td>24.0</td>\n",
       "      <td>NaN</td>\n",
       "      <td>NaN</td>\n",
       "      <td>Denmark</td>\n",
       "      <td>DEN</td>\n",
       "      <td>1920 Summer</td>\n",
       "      <td>1920</td>\n",
       "      <td>Summer</td>\n",
       "      <td>Antwerpen</td>\n",
       "      <td>Football</td>\n",
       "      <td>Football Men's Football</td>\n",
       "      <td>NaN</td>\n",
       "    </tr>\n",
       "    <tr>\n",
       "      <th>3</th>\n",
       "      <td>4</td>\n",
       "      <td>Edgar Lindenau Aabye</td>\n",
       "      <td>M</td>\n",
       "      <td>34.0</td>\n",
       "      <td>NaN</td>\n",
       "      <td>NaN</td>\n",
       "      <td>Denmark/Sweden</td>\n",
       "      <td>DEN</td>\n",
       "      <td>1900 Summer</td>\n",
       "      <td>1900</td>\n",
       "      <td>Summer</td>\n",
       "      <td>Paris</td>\n",
       "      <td>Tug-Of-War</td>\n",
       "      <td>Tug-Of-War Men's Tug-Of-War</td>\n",
       "      <td>Gold</td>\n",
       "    </tr>\n",
       "    <tr>\n",
       "      <th>4</th>\n",
       "      <td>5</td>\n",
       "      <td>Christine Jacoba Aaftink</td>\n",
       "      <td>F</td>\n",
       "      <td>21.0</td>\n",
       "      <td>185.0</td>\n",
       "      <td>82.0</td>\n",
       "      <td>Netherlands</td>\n",
       "      <td>NED</td>\n",
       "      <td>1988 Winter</td>\n",
       "      <td>1988</td>\n",
       "      <td>Winter</td>\n",
       "      <td>Calgary</td>\n",
       "      <td>Speed Skating</td>\n",
       "      <td>Speed Skating Women's 500 metres</td>\n",
       "      <td>NaN</td>\n",
       "    </tr>\n",
       "  </tbody>\n",
       "</table>\n",
       "</div>"
      ],
      "text/plain": [
       "   ID                      Name Sex   Age  Height  Weight            Team  \\\n",
       "0   1                 A Dijiang   M  24.0   180.0    80.0           China   \n",
       "1   2                  A Lamusi   M  23.0   170.0    60.0           China   \n",
       "2   3       Gunnar Nielsen Aaby   M  24.0     NaN     NaN         Denmark   \n",
       "3   4      Edgar Lindenau Aabye   M  34.0     NaN     NaN  Denmark/Sweden   \n",
       "4   5  Christine Jacoba Aaftink   F  21.0   185.0    82.0     Netherlands   \n",
       "\n",
       "   NOC        Games  Year  Season       City          Sport  \\\n",
       "0  CHN  1992 Summer  1992  Summer  Barcelona     Basketball   \n",
       "1  CHN  2012 Summer  2012  Summer     London           Judo   \n",
       "2  DEN  1920 Summer  1920  Summer  Antwerpen       Football   \n",
       "3  DEN  1900 Summer  1900  Summer      Paris     Tug-Of-War   \n",
       "4  NED  1988 Winter  1988  Winter    Calgary  Speed Skating   \n",
       "\n",
       "                              Event Medal  \n",
       "0       Basketball Men's Basketball   NaN  \n",
       "1      Judo Men's Extra-Lightweight   NaN  \n",
       "2           Football Men's Football   NaN  \n",
       "3       Tug-Of-War Men's Tug-Of-War  Gold  \n",
       "4  Speed Skating Women's 500 metres   NaN  "
      ]
     },
     "execution_count": 4,
     "metadata": {},
     "output_type": "execute_result"
    }
   ],
   "source": [
    "df_athletes.head()"
   ]
  },
  {
   "cell_type": "code",
   "execution_count": 5,
   "id": "cc6a8d65",
   "metadata": {},
   "outputs": [
    {
     "data": {
      "text/html": [
       "<div>\n",
       "<style scoped>\n",
       "    .dataframe tbody tr th:only-of-type {\n",
       "        vertical-align: middle;\n",
       "    }\n",
       "\n",
       "    .dataframe tbody tr th {\n",
       "        vertical-align: top;\n",
       "    }\n",
       "\n",
       "    .dataframe thead th {\n",
       "        text-align: right;\n",
       "    }\n",
       "</style>\n",
       "<table border=\"1\" class=\"dataframe\">\n",
       "  <thead>\n",
       "    <tr style=\"text-align: right;\">\n",
       "      <th></th>\n",
       "      <th>ID</th>\n",
       "      <th>Name</th>\n",
       "      <th>Sex</th>\n",
       "      <th>Age</th>\n",
       "      <th>Height</th>\n",
       "      <th>Weight</th>\n",
       "      <th>Team</th>\n",
       "      <th>NOC</th>\n",
       "      <th>Games</th>\n",
       "      <th>Year</th>\n",
       "      <th>Season</th>\n",
       "      <th>City</th>\n",
       "      <th>Sport</th>\n",
       "      <th>Event</th>\n",
       "      <th>Medal</th>\n",
       "    </tr>\n",
       "  </thead>\n",
       "  <tbody>\n",
       "    <tr>\n",
       "      <th>271111</th>\n",
       "      <td>135569</td>\n",
       "      <td>Andrzej ya</td>\n",
       "      <td>M</td>\n",
       "      <td>29.0</td>\n",
       "      <td>179.0</td>\n",
       "      <td>89.0</td>\n",
       "      <td>Poland-1</td>\n",
       "      <td>POL</td>\n",
       "      <td>1976 Winter</td>\n",
       "      <td>1976</td>\n",
       "      <td>Winter</td>\n",
       "      <td>Innsbruck</td>\n",
       "      <td>Luge</td>\n",
       "      <td>Luge Mixed (Men)'s Doubles</td>\n",
       "      <td>NaN</td>\n",
       "    </tr>\n",
       "    <tr>\n",
       "      <th>271112</th>\n",
       "      <td>135570</td>\n",
       "      <td>Piotr ya</td>\n",
       "      <td>M</td>\n",
       "      <td>27.0</td>\n",
       "      <td>176.0</td>\n",
       "      <td>59.0</td>\n",
       "      <td>Poland</td>\n",
       "      <td>POL</td>\n",
       "      <td>2014 Winter</td>\n",
       "      <td>2014</td>\n",
       "      <td>Winter</td>\n",
       "      <td>Sochi</td>\n",
       "      <td>Ski Jumping</td>\n",
       "      <td>Ski Jumping Men's Large Hill, Individual</td>\n",
       "      <td>NaN</td>\n",
       "    </tr>\n",
       "    <tr>\n",
       "      <th>271113</th>\n",
       "      <td>135570</td>\n",
       "      <td>Piotr ya</td>\n",
       "      <td>M</td>\n",
       "      <td>27.0</td>\n",
       "      <td>176.0</td>\n",
       "      <td>59.0</td>\n",
       "      <td>Poland</td>\n",
       "      <td>POL</td>\n",
       "      <td>2014 Winter</td>\n",
       "      <td>2014</td>\n",
       "      <td>Winter</td>\n",
       "      <td>Sochi</td>\n",
       "      <td>Ski Jumping</td>\n",
       "      <td>Ski Jumping Men's Large Hill, Team</td>\n",
       "      <td>NaN</td>\n",
       "    </tr>\n",
       "    <tr>\n",
       "      <th>271114</th>\n",
       "      <td>135571</td>\n",
       "      <td>Tomasz Ireneusz ya</td>\n",
       "      <td>M</td>\n",
       "      <td>30.0</td>\n",
       "      <td>185.0</td>\n",
       "      <td>96.0</td>\n",
       "      <td>Poland</td>\n",
       "      <td>POL</td>\n",
       "      <td>1998 Winter</td>\n",
       "      <td>1998</td>\n",
       "      <td>Winter</td>\n",
       "      <td>Nagano</td>\n",
       "      <td>Bobsleigh</td>\n",
       "      <td>Bobsleigh Men's Four</td>\n",
       "      <td>NaN</td>\n",
       "    </tr>\n",
       "    <tr>\n",
       "      <th>271115</th>\n",
       "      <td>135571</td>\n",
       "      <td>Tomasz Ireneusz ya</td>\n",
       "      <td>M</td>\n",
       "      <td>34.0</td>\n",
       "      <td>185.0</td>\n",
       "      <td>96.0</td>\n",
       "      <td>Poland</td>\n",
       "      <td>POL</td>\n",
       "      <td>2002 Winter</td>\n",
       "      <td>2002</td>\n",
       "      <td>Winter</td>\n",
       "      <td>Salt Lake City</td>\n",
       "      <td>Bobsleigh</td>\n",
       "      <td>Bobsleigh Men's Four</td>\n",
       "      <td>NaN</td>\n",
       "    </tr>\n",
       "  </tbody>\n",
       "</table>\n",
       "</div>"
      ],
      "text/plain": [
       "            ID                Name Sex   Age  Height  Weight      Team  NOC  \\\n",
       "271111  135569          Andrzej ya   M  29.0   179.0    89.0  Poland-1  POL   \n",
       "271112  135570            Piotr ya   M  27.0   176.0    59.0    Poland  POL   \n",
       "271113  135570            Piotr ya   M  27.0   176.0    59.0    Poland  POL   \n",
       "271114  135571  Tomasz Ireneusz ya   M  30.0   185.0    96.0    Poland  POL   \n",
       "271115  135571  Tomasz Ireneusz ya   M  34.0   185.0    96.0    Poland  POL   \n",
       "\n",
       "              Games  Year  Season            City        Sport  \\\n",
       "271111  1976 Winter  1976  Winter       Innsbruck         Luge   \n",
       "271112  2014 Winter  2014  Winter           Sochi  Ski Jumping   \n",
       "271113  2014 Winter  2014  Winter           Sochi  Ski Jumping   \n",
       "271114  1998 Winter  1998  Winter          Nagano    Bobsleigh   \n",
       "271115  2002 Winter  2002  Winter  Salt Lake City    Bobsleigh   \n",
       "\n",
       "                                           Event Medal  \n",
       "271111                Luge Mixed (Men)'s Doubles   NaN  \n",
       "271112  Ski Jumping Men's Large Hill, Individual   NaN  \n",
       "271113        Ski Jumping Men's Large Hill, Team   NaN  \n",
       "271114                      Bobsleigh Men's Four   NaN  \n",
       "271115                      Bobsleigh Men's Four   NaN  "
      ]
     },
     "execution_count": 5,
     "metadata": {},
     "output_type": "execute_result"
    }
   ],
   "source": [
    "df_athletes.tail()"
   ]
  },
  {
   "cell_type": "code",
   "execution_count": 6,
   "id": "19ae5675",
   "metadata": {},
   "outputs": [
    {
     "data": {
      "text/html": [
       "<div>\n",
       "<style scoped>\n",
       "    .dataframe tbody tr th:only-of-type {\n",
       "        vertical-align: middle;\n",
       "    }\n",
       "\n",
       "    .dataframe tbody tr th {\n",
       "        vertical-align: top;\n",
       "    }\n",
       "\n",
       "    .dataframe thead th {\n",
       "        text-align: right;\n",
       "    }\n",
       "</style>\n",
       "<table border=\"1\" class=\"dataframe\">\n",
       "  <thead>\n",
       "    <tr style=\"text-align: right;\">\n",
       "      <th></th>\n",
       "      <th>NOC</th>\n",
       "      <th>region</th>\n",
       "      <th>notes</th>\n",
       "    </tr>\n",
       "  </thead>\n",
       "  <tbody>\n",
       "    <tr>\n",
       "      <th>0</th>\n",
       "      <td>AFG</td>\n",
       "      <td>Afghanistan</td>\n",
       "      <td>NaN</td>\n",
       "    </tr>\n",
       "    <tr>\n",
       "      <th>1</th>\n",
       "      <td>AHO</td>\n",
       "      <td>Curacao</td>\n",
       "      <td>Netherlands Antilles</td>\n",
       "    </tr>\n",
       "    <tr>\n",
       "      <th>2</th>\n",
       "      <td>ALB</td>\n",
       "      <td>Albania</td>\n",
       "      <td>NaN</td>\n",
       "    </tr>\n",
       "    <tr>\n",
       "      <th>3</th>\n",
       "      <td>ALG</td>\n",
       "      <td>Algeria</td>\n",
       "      <td>NaN</td>\n",
       "    </tr>\n",
       "    <tr>\n",
       "      <th>4</th>\n",
       "      <td>AND</td>\n",
       "      <td>Andorra</td>\n",
       "      <td>NaN</td>\n",
       "    </tr>\n",
       "  </tbody>\n",
       "</table>\n",
       "</div>"
      ],
      "text/plain": [
       "   NOC       region                 notes\n",
       "0  AFG  Afghanistan                   NaN\n",
       "1  AHO      Curacao  Netherlands Antilles\n",
       "2  ALB      Albania                   NaN\n",
       "3  ALG      Algeria                   NaN\n",
       "4  AND      Andorra                   NaN"
      ]
     },
     "execution_count": 6,
     "metadata": {},
     "output_type": "execute_result"
    }
   ],
   "source": [
    "df_regions.head()"
   ]
  },
  {
   "cell_type": "markdown",
   "id": "6de121e3",
   "metadata": {},
   "source": [
    "**Now lets take a look at the quick discriptive stats of the dataset on which we r gonna work**"
   ]
  },
  {
   "cell_type": "markdown",
   "id": "9c616b59",
   "metadata": {},
   "source": [
    "df_athletes.describe()"
   ]
  },
  {
   "cell_type": "markdown",
   "id": "61f4a4ed",
   "metadata": {},
   "source": [
    "**from this discriptive stats we can conclude that:**\n",
    "\n",
    "   -  The age of youngest player in olympic history was 10 years.\n",
    "   - The age of eldest player in the olympic history was 97 years.\n",
    "   - The tallest player ever played in olympic history was 226cm tall.\n",
    "   - The shortest player ever played in the olympic was just 127cm short.\n",
    "   - The avarage age, height, & weight of the olympians are 25, 175 & 70.\n",
    "    \n",
    "    "
   ]
  },
  {
   "cell_type": "markdown",
   "id": "8b81d0a2",
   "metadata": {},
   "source": [
    "**Lets join both the datasets**"
   ]
  },
  {
   "cell_type": "code",
   "execution_count": 7,
   "id": "ded34c2f",
   "metadata": {},
   "outputs": [],
   "source": [
    "#Joining the datasets\n",
    "df=df_athletes.merge(df_regions, how='inner', on='NOC')"
   ]
  },
  {
   "cell_type": "code",
   "execution_count": 8,
   "id": "9fd7a93e",
   "metadata": {},
   "outputs": [
    {
     "data": {
      "text/html": [
       "<div>\n",
       "<style scoped>\n",
       "    .dataframe tbody tr th:only-of-type {\n",
       "        vertical-align: middle;\n",
       "    }\n",
       "\n",
       "    .dataframe tbody tr th {\n",
       "        vertical-align: top;\n",
       "    }\n",
       "\n",
       "    .dataframe thead th {\n",
       "        text-align: right;\n",
       "    }\n",
       "</style>\n",
       "<table border=\"1\" class=\"dataframe\">\n",
       "  <thead>\n",
       "    <tr style=\"text-align: right;\">\n",
       "      <th></th>\n",
       "      <th>ID</th>\n",
       "      <th>Name</th>\n",
       "      <th>Sex</th>\n",
       "      <th>Age</th>\n",
       "      <th>Height</th>\n",
       "      <th>Weight</th>\n",
       "      <th>Team</th>\n",
       "      <th>NOC</th>\n",
       "      <th>Games</th>\n",
       "      <th>Year</th>\n",
       "      <th>Season</th>\n",
       "      <th>City</th>\n",
       "      <th>Sport</th>\n",
       "      <th>Event</th>\n",
       "      <th>Medal</th>\n",
       "      <th>region</th>\n",
       "      <th>notes</th>\n",
       "    </tr>\n",
       "  </thead>\n",
       "  <tbody>\n",
       "    <tr>\n",
       "      <th>0</th>\n",
       "      <td>1</td>\n",
       "      <td>A Dijiang</td>\n",
       "      <td>M</td>\n",
       "      <td>24.0</td>\n",
       "      <td>180.0</td>\n",
       "      <td>80.0</td>\n",
       "      <td>China</td>\n",
       "      <td>CHN</td>\n",
       "      <td>1992 Summer</td>\n",
       "      <td>1992</td>\n",
       "      <td>Summer</td>\n",
       "      <td>Barcelona</td>\n",
       "      <td>Basketball</td>\n",
       "      <td>Basketball Men's Basketball</td>\n",
       "      <td>NaN</td>\n",
       "      <td>China</td>\n",
       "      <td>NaN</td>\n",
       "    </tr>\n",
       "    <tr>\n",
       "      <th>1</th>\n",
       "      <td>2</td>\n",
       "      <td>A Lamusi</td>\n",
       "      <td>M</td>\n",
       "      <td>23.0</td>\n",
       "      <td>170.0</td>\n",
       "      <td>60.0</td>\n",
       "      <td>China</td>\n",
       "      <td>CHN</td>\n",
       "      <td>2012 Summer</td>\n",
       "      <td>2012</td>\n",
       "      <td>Summer</td>\n",
       "      <td>London</td>\n",
       "      <td>Judo</td>\n",
       "      <td>Judo Men's Extra-Lightweight</td>\n",
       "      <td>NaN</td>\n",
       "      <td>China</td>\n",
       "      <td>NaN</td>\n",
       "    </tr>\n",
       "    <tr>\n",
       "      <th>2</th>\n",
       "      <td>602</td>\n",
       "      <td>Abudoureheman</td>\n",
       "      <td>M</td>\n",
       "      <td>22.0</td>\n",
       "      <td>182.0</td>\n",
       "      <td>75.0</td>\n",
       "      <td>China</td>\n",
       "      <td>CHN</td>\n",
       "      <td>2000 Summer</td>\n",
       "      <td>2000</td>\n",
       "      <td>Summer</td>\n",
       "      <td>Sydney</td>\n",
       "      <td>Boxing</td>\n",
       "      <td>Boxing Men's Middleweight</td>\n",
       "      <td>NaN</td>\n",
       "      <td>China</td>\n",
       "      <td>NaN</td>\n",
       "    </tr>\n",
       "    <tr>\n",
       "      <th>3</th>\n",
       "      <td>1463</td>\n",
       "      <td>Ai Linuer</td>\n",
       "      <td>M</td>\n",
       "      <td>25.0</td>\n",
       "      <td>160.0</td>\n",
       "      <td>62.0</td>\n",
       "      <td>China</td>\n",
       "      <td>CHN</td>\n",
       "      <td>2004 Summer</td>\n",
       "      <td>2004</td>\n",
       "      <td>Summer</td>\n",
       "      <td>Athina</td>\n",
       "      <td>Wrestling</td>\n",
       "      <td>Wrestling Men's Lightweight, Greco-Roman</td>\n",
       "      <td>NaN</td>\n",
       "      <td>China</td>\n",
       "      <td>NaN</td>\n",
       "    </tr>\n",
       "    <tr>\n",
       "      <th>4</th>\n",
       "      <td>1464</td>\n",
       "      <td>Ai Yanhan</td>\n",
       "      <td>F</td>\n",
       "      <td>14.0</td>\n",
       "      <td>168.0</td>\n",
       "      <td>54.0</td>\n",
       "      <td>China</td>\n",
       "      <td>CHN</td>\n",
       "      <td>2016 Summer</td>\n",
       "      <td>2016</td>\n",
       "      <td>Summer</td>\n",
       "      <td>Rio de Janeiro</td>\n",
       "      <td>Swimming</td>\n",
       "      <td>Swimming Women's 200 metres Freestyle</td>\n",
       "      <td>NaN</td>\n",
       "      <td>China</td>\n",
       "      <td>NaN</td>\n",
       "    </tr>\n",
       "  </tbody>\n",
       "</table>\n",
       "</div>"
      ],
      "text/plain": [
       "     ID           Name Sex   Age  Height  Weight   Team  NOC        Games  \\\n",
       "0     1      A Dijiang   M  24.0   180.0    80.0  China  CHN  1992 Summer   \n",
       "1     2       A Lamusi   M  23.0   170.0    60.0  China  CHN  2012 Summer   \n",
       "2   602  Abudoureheman   M  22.0   182.0    75.0  China  CHN  2000 Summer   \n",
       "3  1463      Ai Linuer   M  25.0   160.0    62.0  China  CHN  2004 Summer   \n",
       "4  1464      Ai Yanhan   F  14.0   168.0    54.0  China  CHN  2016 Summer   \n",
       "\n",
       "   Year  Season            City       Sport  \\\n",
       "0  1992  Summer       Barcelona  Basketball   \n",
       "1  2012  Summer          London        Judo   \n",
       "2  2000  Summer          Sydney      Boxing   \n",
       "3  2004  Summer          Athina   Wrestling   \n",
       "4  2016  Summer  Rio de Janeiro    Swimming   \n",
       "\n",
       "                                      Event Medal region notes  \n",
       "0               Basketball Men's Basketball   NaN  China   NaN  \n",
       "1              Judo Men's Extra-Lightweight   NaN  China   NaN  \n",
       "2                 Boxing Men's Middleweight   NaN  China   NaN  \n",
       "3  Wrestling Men's Lightweight, Greco-Roman   NaN  China   NaN  \n",
       "4     Swimming Women's 200 metres Freestyle   NaN  China   NaN  "
      ]
     },
     "execution_count": 8,
     "metadata": {},
     "output_type": "execute_result"
    }
   ],
   "source": [
    "df.head()"
   ]
  },
  {
   "cell_type": "code",
   "execution_count": 9,
   "id": "ff9594a2",
   "metadata": {},
   "outputs": [
    {
     "data": {
      "text/plain": [
       "(270767, 17)"
      ]
     },
     "execution_count": 9,
     "metadata": {},
     "output_type": "execute_result"
    }
   ],
   "source": [
    "#Checking the shape of datasets (No.of rows & columns)\n",
    "df.shape"
   ]
  },
  {
   "cell_type": "code",
   "execution_count": 10,
   "id": "4a478b9d",
   "metadata": {},
   "outputs": [
    {
     "data": {
      "text/plain": [
       "Index(['ID', 'Name', 'Sex', 'Age', 'Height', 'Weight', 'Team', 'NOC', 'Games',\n",
       "       'Year', 'Season', 'City', 'Sport', 'Event', 'Medal', 'region', 'notes'],\n",
       "      dtype='object')"
      ]
     },
     "execution_count": 10,
     "metadata": {},
     "output_type": "execute_result"
    }
   ],
   "source": [
    "#Checking column names\n",
    "df.columns"
   ]
  },
  {
   "cell_type": "markdown",
   "id": "623fa856",
   "metadata": {},
   "source": [
    "# **2.Cleaning dataset**"
   ]
  },
  {
   "cell_type": "markdown",
   "id": "3ad8df32",
   "metadata": {},
   "source": [
    "**One thing i noticed that the column names(region, notes) are not capitalised so make it capitalised.**"
   ]
  },
  {
   "cell_type": "code",
   "execution_count": 11,
   "id": "052beb98",
   "metadata": {},
   "outputs": [
    {
     "data": {
      "text/plain": [
       "Index(['ID', 'Name', 'Sex', 'Age', 'Height', 'Weight', 'Team', 'NOC', 'Games',\n",
       "       'Year', 'Season', 'City', 'Sport', 'Event', 'Medal', 'Region', 'Notes'],\n",
       "      dtype='object')"
      ]
     },
     "execution_count": 11,
     "metadata": {},
     "output_type": "execute_result"
    }
   ],
   "source": [
    "#Renaming column names\n",
    "df.rename(columns={'region':'Region', 'notes':'Notes'}, inplace=True)\n",
    "df.columns"
   ]
  },
  {
   "cell_type": "code",
   "execution_count": 12,
   "id": "924083e9",
   "metadata": {},
   "outputs": [
    {
     "data": {
      "text/plain": [
       "ID             0\n",
       "Name           0\n",
       "Sex            0\n",
       "Age         9462\n",
       "Height     60083\n",
       "Weight     62785\n",
       "Team           0\n",
       "NOC            0\n",
       "Games          0\n",
       "Year           0\n",
       "Season         0\n",
       "City           0\n",
       "Sport          0\n",
       "Event          0\n",
       "Medal     230993\n",
       "Region        21\n",
       "Notes     265728\n",
       "dtype: int64"
      ]
     },
     "execution_count": 12,
     "metadata": {},
     "output_type": "execute_result"
    }
   ],
   "source": [
    "#Checking how mant null values are present in the dateset.\n",
    "df.isnull().sum()"
   ]
  },
  {
   "cell_type": "code",
   "execution_count": 13,
   "id": "528d2fb7",
   "metadata": {},
   "outputs": [
    {
     "data": {
      "text/plain": [
       "['Age', 'Height', 'Weight', 'Medal', 'Region', 'Notes']"
      ]
     },
     "execution_count": 13,
     "metadata": {},
     "output_type": "execute_result"
    }
   ],
   "source": [
    "#Checking those columns which are having at least one null value.\n",
    "df.columns[df.isna().any()].tolist()"
   ]
  },
  {
   "cell_type": "code",
   "execution_count": 14,
   "id": "ef7db060",
   "metadata": {},
   "outputs": [
    {
     "data": {
      "text/html": [
       "<div>\n",
       "<style scoped>\n",
       "    .dataframe tbody tr th:only-of-type {\n",
       "        vertical-align: middle;\n",
       "    }\n",
       "\n",
       "    .dataframe tbody tr th {\n",
       "        vertical-align: top;\n",
       "    }\n",
       "\n",
       "    .dataframe thead th {\n",
       "        text-align: right;\n",
       "    }\n",
       "</style>\n",
       "<table border=\"1\" class=\"dataframe\">\n",
       "  <thead>\n",
       "    <tr style=\"text-align: right;\">\n",
       "      <th></th>\n",
       "      <th>ID</th>\n",
       "      <th>Name</th>\n",
       "      <th>Sex</th>\n",
       "      <th>Age</th>\n",
       "      <th>Height</th>\n",
       "      <th>Weight</th>\n",
       "      <th>Team</th>\n",
       "      <th>NOC</th>\n",
       "      <th>Games</th>\n",
       "      <th>Year</th>\n",
       "      <th>Season</th>\n",
       "      <th>City</th>\n",
       "      <th>Sport</th>\n",
       "      <th>Event</th>\n",
       "      <th>Medal</th>\n",
       "      <th>Region</th>\n",
       "      <th>Notes</th>\n",
       "    </tr>\n",
       "  </thead>\n",
       "  <tbody>\n",
       "    <tr>\n",
       "      <th>159083</th>\n",
       "      <td>281</td>\n",
       "      <td>S. Abdul Hamid</td>\n",
       "      <td>M</td>\n",
       "      <td>NaN</td>\n",
       "      <td>NaN</td>\n",
       "      <td>NaN</td>\n",
       "      <td>India</td>\n",
       "      <td>IND</td>\n",
       "      <td>1928 Summer</td>\n",
       "      <td>1928</td>\n",
       "      <td>Summer</td>\n",
       "      <td>Amsterdam</td>\n",
       "      <td>Athletics</td>\n",
       "      <td>Athletics Men's 110 metres Hurdles</td>\n",
       "      <td>NaN</td>\n",
       "      <td>India</td>\n",
       "      <td>NaN</td>\n",
       "    </tr>\n",
       "    <tr>\n",
       "      <th>159084</th>\n",
       "      <td>281</td>\n",
       "      <td>S. Abdul Hamid</td>\n",
       "      <td>M</td>\n",
       "      <td>NaN</td>\n",
       "      <td>NaN</td>\n",
       "      <td>NaN</td>\n",
       "      <td>India</td>\n",
       "      <td>IND</td>\n",
       "      <td>1928 Summer</td>\n",
       "      <td>1928</td>\n",
       "      <td>Summer</td>\n",
       "      <td>Amsterdam</td>\n",
       "      <td>Athletics</td>\n",
       "      <td>Athletics Men's 400 metres Hurdles</td>\n",
       "      <td>NaN</td>\n",
       "      <td>India</td>\n",
       "      <td>NaN</td>\n",
       "    </tr>\n",
       "    <tr>\n",
       "      <th>159085</th>\n",
       "      <td>512</td>\n",
       "      <td>Shiny Kurisingal Abraham-Wilson</td>\n",
       "      <td>F</td>\n",
       "      <td>19.0</td>\n",
       "      <td>167.0</td>\n",
       "      <td>53.0</td>\n",
       "      <td>India</td>\n",
       "      <td>IND</td>\n",
       "      <td>1984 Summer</td>\n",
       "      <td>1984</td>\n",
       "      <td>Summer</td>\n",
       "      <td>Los Angeles</td>\n",
       "      <td>Athletics</td>\n",
       "      <td>Athletics Women's 800 metres</td>\n",
       "      <td>NaN</td>\n",
       "      <td>India</td>\n",
       "      <td>NaN</td>\n",
       "    </tr>\n",
       "    <tr>\n",
       "      <th>159086</th>\n",
       "      <td>512</td>\n",
       "      <td>Shiny Kurisingal Abraham-Wilson</td>\n",
       "      <td>F</td>\n",
       "      <td>19.0</td>\n",
       "      <td>167.0</td>\n",
       "      <td>53.0</td>\n",
       "      <td>India</td>\n",
       "      <td>IND</td>\n",
       "      <td>1984 Summer</td>\n",
       "      <td>1984</td>\n",
       "      <td>Summer</td>\n",
       "      <td>Los Angeles</td>\n",
       "      <td>Athletics</td>\n",
       "      <td>Athletics Women's 4 x 400 metres Relay</td>\n",
       "      <td>NaN</td>\n",
       "      <td>India</td>\n",
       "      <td>NaN</td>\n",
       "    </tr>\n",
       "    <tr>\n",
       "      <th>159087</th>\n",
       "      <td>512</td>\n",
       "      <td>Shiny Kurisingal Abraham-Wilson</td>\n",
       "      <td>F</td>\n",
       "      <td>23.0</td>\n",
       "      <td>167.0</td>\n",
       "      <td>53.0</td>\n",
       "      <td>India</td>\n",
       "      <td>IND</td>\n",
       "      <td>1988 Summer</td>\n",
       "      <td>1988</td>\n",
       "      <td>Summer</td>\n",
       "      <td>Seoul</td>\n",
       "      <td>Athletics</td>\n",
       "      <td>Athletics Women's 800 metres</td>\n",
       "      <td>NaN</td>\n",
       "      <td>India</td>\n",
       "      <td>NaN</td>\n",
       "    </tr>\n",
       "  </tbody>\n",
       "</table>\n",
       "</div>"
      ],
      "text/plain": [
       "         ID                             Name Sex   Age  Height  Weight   Team  \\\n",
       "159083  281                   S. Abdul Hamid   M   NaN     NaN     NaN  India   \n",
       "159084  281                   S. Abdul Hamid   M   NaN     NaN     NaN  India   \n",
       "159085  512  Shiny Kurisingal Abraham-Wilson   F  19.0   167.0    53.0  India   \n",
       "159086  512  Shiny Kurisingal Abraham-Wilson   F  19.0   167.0    53.0  India   \n",
       "159087  512  Shiny Kurisingal Abraham-Wilson   F  23.0   167.0    53.0  India   \n",
       "\n",
       "        NOC        Games  Year  Season         City      Sport  \\\n",
       "159083  IND  1928 Summer  1928  Summer    Amsterdam  Athletics   \n",
       "159084  IND  1928 Summer  1928  Summer    Amsterdam  Athletics   \n",
       "159085  IND  1984 Summer  1984  Summer  Los Angeles  Athletics   \n",
       "159086  IND  1984 Summer  1984  Summer  Los Angeles  Athletics   \n",
       "159087  IND  1988 Summer  1988  Summer        Seoul  Athletics   \n",
       "\n",
       "                                         Event Medal Region Notes  \n",
       "159083      Athletics Men's 110 metres Hurdles   NaN  India   NaN  \n",
       "159084      Athletics Men's 400 metres Hurdles   NaN  India   NaN  \n",
       "159085            Athletics Women's 800 metres   NaN  India   NaN  \n",
       "159086  Athletics Women's 4 x 400 metres Relay   NaN  India   NaN  \n",
       "159087            Athletics Women's 800 metres   NaN  India   NaN  "
      ]
     },
     "execution_count": 14,
     "metadata": {},
     "output_type": "execute_result"
    }
   ],
   "source": [
    "#Being an Indian.\n",
    "#Print out the Indian athletes which are participated in olympic.\n",
    "df[df['Team']=='India'].head()"
   ]
  },
  {
   "cell_type": "code",
   "execution_count": 15,
   "id": "24e1b3ac",
   "metadata": {},
   "outputs": [
    {
     "data": {
      "text/html": [
       "<div>\n",
       "<style scoped>\n",
       "    .dataframe tbody tr th:only-of-type {\n",
       "        vertical-align: middle;\n",
       "    }\n",
       "\n",
       "    .dataframe tbody tr th {\n",
       "        vertical-align: top;\n",
       "    }\n",
       "\n",
       "    .dataframe thead th {\n",
       "        text-align: right;\n",
       "    }\n",
       "</style>\n",
       "<table border=\"1\" class=\"dataframe\">\n",
       "  <thead>\n",
       "    <tr style=\"text-align: right;\">\n",
       "      <th></th>\n",
       "      <th>ID</th>\n",
       "      <th>Name</th>\n",
       "      <th>Sex</th>\n",
       "      <th>Age</th>\n",
       "      <th>Height</th>\n",
       "      <th>Weight</th>\n",
       "      <th>Team</th>\n",
       "      <th>NOC</th>\n",
       "      <th>Games</th>\n",
       "      <th>Year</th>\n",
       "      <th>Season</th>\n",
       "      <th>City</th>\n",
       "      <th>Sport</th>\n",
       "      <th>Event</th>\n",
       "      <th>Medal</th>\n",
       "      <th>Region</th>\n",
       "      <th>Notes</th>\n",
       "    </tr>\n",
       "  </thead>\n",
       "  <tbody>\n",
       "    <tr>\n",
       "      <th>160190</th>\n",
       "      <td>111108</td>\n",
       "      <td>Milkha Singh</td>\n",
       "      <td>M</td>\n",
       "      <td>21.0</td>\n",
       "      <td>172.0</td>\n",
       "      <td>66.0</td>\n",
       "      <td>India</td>\n",
       "      <td>IND</td>\n",
       "      <td>1956 Summer</td>\n",
       "      <td>1956</td>\n",
       "      <td>Summer</td>\n",
       "      <td>Melbourne</td>\n",
       "      <td>Athletics</td>\n",
       "      <td>Athletics Men's 200 metres</td>\n",
       "      <td>NaN</td>\n",
       "      <td>India</td>\n",
       "      <td>NaN</td>\n",
       "    </tr>\n",
       "    <tr>\n",
       "      <th>160191</th>\n",
       "      <td>111108</td>\n",
       "      <td>Milkha Singh</td>\n",
       "      <td>M</td>\n",
       "      <td>21.0</td>\n",
       "      <td>172.0</td>\n",
       "      <td>66.0</td>\n",
       "      <td>India</td>\n",
       "      <td>IND</td>\n",
       "      <td>1956 Summer</td>\n",
       "      <td>1956</td>\n",
       "      <td>Summer</td>\n",
       "      <td>Melbourne</td>\n",
       "      <td>Athletics</td>\n",
       "      <td>Athletics Men's 400 metres</td>\n",
       "      <td>NaN</td>\n",
       "      <td>India</td>\n",
       "      <td>NaN</td>\n",
       "    </tr>\n",
       "    <tr>\n",
       "      <th>160192</th>\n",
       "      <td>111108</td>\n",
       "      <td>Milkha Singh</td>\n",
       "      <td>M</td>\n",
       "      <td>24.0</td>\n",
       "      <td>172.0</td>\n",
       "      <td>66.0</td>\n",
       "      <td>India</td>\n",
       "      <td>IND</td>\n",
       "      <td>1960 Summer</td>\n",
       "      <td>1960</td>\n",
       "      <td>Summer</td>\n",
       "      <td>Roma</td>\n",
       "      <td>Athletics</td>\n",
       "      <td>Athletics Men's 400 metres</td>\n",
       "      <td>NaN</td>\n",
       "      <td>India</td>\n",
       "      <td>NaN</td>\n",
       "    </tr>\n",
       "    <tr>\n",
       "      <th>160193</th>\n",
       "      <td>111108</td>\n",
       "      <td>Milkha Singh</td>\n",
       "      <td>M</td>\n",
       "      <td>28.0</td>\n",
       "      <td>172.0</td>\n",
       "      <td>66.0</td>\n",
       "      <td>India</td>\n",
       "      <td>IND</td>\n",
       "      <td>1964 Summer</td>\n",
       "      <td>1964</td>\n",
       "      <td>Summer</td>\n",
       "      <td>Tokyo</td>\n",
       "      <td>Athletics</td>\n",
       "      <td>Athletics Men's 4 x 400 metres Relay</td>\n",
       "      <td>NaN</td>\n",
       "      <td>India</td>\n",
       "      <td>NaN</td>\n",
       "    </tr>\n",
       "  </tbody>\n",
       "</table>\n",
       "</div>"
      ],
      "text/plain": [
       "            ID          Name Sex   Age  Height  Weight   Team  NOC  \\\n",
       "160190  111108  Milkha Singh   M  21.0   172.0    66.0  India  IND   \n",
       "160191  111108  Milkha Singh   M  21.0   172.0    66.0  India  IND   \n",
       "160192  111108  Milkha Singh   M  24.0   172.0    66.0  India  IND   \n",
       "160193  111108  Milkha Singh   M  28.0   172.0    66.0  India  IND   \n",
       "\n",
       "              Games  Year  Season       City      Sport  \\\n",
       "160190  1956 Summer  1956  Summer  Melbourne  Athletics   \n",
       "160191  1956 Summer  1956  Summer  Melbourne  Athletics   \n",
       "160192  1960 Summer  1960  Summer       Roma  Athletics   \n",
       "160193  1964 Summer  1964  Summer      Tokyo  Athletics   \n",
       "\n",
       "                                       Event Medal Region Notes  \n",
       "160190            Athletics Men's 200 metres   NaN  India   NaN  \n",
       "160191            Athletics Men's 400 metres   NaN  India   NaN  \n",
       "160192            Athletics Men's 400 metres   NaN  India   NaN  \n",
       "160193  Athletics Men's 4 x 400 metres Relay   NaN  India   NaN  "
      ]
     },
     "execution_count": 15,
     "metadata": {},
     "output_type": "execute_result"
    }
   ],
   "source": [
    "#Lets see the details of milkha singh.\n",
    "df[df['Name']=='Milkha Singh']"
   ]
  },
  {
   "cell_type": "code",
   "execution_count": 16,
   "id": "e99e7b15",
   "metadata": {},
   "outputs": [
    {
     "name": "stdout",
     "output_type": "stream",
     "text": [
      "                  ID          Age      Height      Weight         Year\n",
      "count    1400.000000  1250.000000  887.000000  865.000000  1400.000000\n",
      "mean    76701.817143    25.508000  171.577227   67.682659  1978.825714\n",
      "std     38073.641662     5.171705    9.582507   14.340968    26.931590\n",
      "min       281.000000    15.000000  137.000000   43.000000  1900.000000\n",
      "25%     46736.000000    22.000000  165.000000   58.000000  1956.000000\n",
      "50%     86988.000000    25.000000  172.000000   65.000000  1980.000000\n",
      "75%    111071.250000    28.000000  178.000000   74.000000  2004.000000\n",
      "max    135480.000000    66.000000  200.000000  125.000000  2016.000000\n",
      "                  ID          Age       Height       Weight         Year\n",
      "count    8289.000000  8173.000000  7408.000000  7348.000000  8289.000000\n",
      "mean    81911.857522    24.423345   168.173326    63.215977  1983.835203\n",
      "std     33529.498257     5.164253     9.381821    11.962552    23.903994\n",
      "min       362.000000    11.000000   140.000000    28.000000  1912.000000\n",
      "25%     56727.000000    21.000000   162.000000    56.000000  1968.000000\n",
      "50%     84070.000000    24.000000   168.000000    62.000000  1988.000000\n",
      "75%    116223.000000    27.000000   175.000000    70.000000  2004.000000\n",
      "max    134133.000000    71.000000   208.000000   145.000000  2016.000000\n"
     ]
    }
   ],
   "source": [
    "#Lets see the comparison between Inia and China.\n",
    "India=df[df['Team']=='India'].describe()\n",
    "China=df[df['Team']=='Japan'].describe()\n",
    "print(India)\n",
    "print(China)"
   ]
  },
  {
   "cell_type": "markdown",
   "id": "3a94ee29",
   "metadata": {},
   "source": [
    "**Some insights from above discriptive stats**\n",
    "\n",
    "- The avarage age of Indian players is 25 year 6 months while in case of Japan it is 24 year 5 months.\n",
    "- The avg height of Indian players is (171cm) while in case of Japan it is (168).so, Indian player r (3cm) taller than Japnese     players.\n",
    "- The avg wt of Indian players is 67.68kg while in case of Japan it is 63.21kg"
   ]
  },
  {
   "cell_type": "code",
   "execution_count": 17,
   "id": "e453b108",
   "metadata": {},
   "outputs": [
    {
     "data": {
      "text/plain": [
       "United States    17847\n",
       "France           11988\n",
       "Great Britain    11404\n",
       "Italy            10260\n",
       "Germany           9326\n",
       "Canada            9279\n",
       "Japan             8289\n",
       "Sweden            8052\n",
       "Australia         7513\n",
       "Hungary           6547\n",
       "Name: Team, dtype: int64"
      ]
     },
     "execution_count": 17,
     "metadata": {},
     "output_type": "execute_result"
    }
   ],
   "source": [
    "#Find the top 10 countries with participation rate(in terms of no of players have participated).\n",
    "Top_10_countries= df['Team'].value_counts().sort_values(ascending=False).head(10)\n",
    "Top_10_countries"
   ]
  },
  {
   "cell_type": "code",
   "execution_count": 18,
   "id": "27638b36",
   "metadata": {},
   "outputs": [
    {
     "data": {
      "image/png": "[encoded data removed]",
      "text/plain": [
       "<Figure size 1200x500 with 1 Axes>"
      ]
     },
     "metadata": {},
     "output_type": "display_data"
    }
   ],
   "source": [
    "#Graphical representation of top 10 countries with most participation.\n",
    "plt.figure(figsize=(12,5))\n",
    "sns.barplot(x=Top_10_countries, y=Top_10_countries.index)\n",
    "plt.title('Top 10 countries with most no of player participation')\n",
    "plt.xlabel('No of players')\n",
    "plt.ylabel('Countries')\n",
    "plt.show()"
   ]
  },
  {
   "cell_type": "code",
   "execution_count": 19,
   "id": "454e8b8d",
   "metadata": {},
   "outputs": [
    {
     "data": {
      "text/plain": [
       "(array([1.0000e+00, 1.3000e+01, 3.9000e+01, 1.8100e+02, 8.3600e+02,\n",
       "        2.1920e+03, 3.8280e+03, 5.3600e+03, 8.1190e+03, 1.1630e+04,\n",
       "        1.5246e+04, 1.9126e+04, 2.0793e+04, 2.1848e+04, 2.1708e+04,\n",
       "        1.9676e+04, 1.7663e+04, 1.6014e+04, 1.4029e+04, 1.1452e+04,\n",
       "        9.4820e+03, 7.5540e+03, 6.2430e+03, 4.7940e+03, 3.9830e+03,\n",
       "        3.1280e+03, 2.5030e+03, 1.9510e+03, 1.6100e+03, 1.3990e+03,\n",
       "        1.2100e+03, 9.5200e+02, 8.6500e+02, 7.9200e+02, 6.8300e+02,\n",
       "        5.8300e+02, 4.2900e+02, 4.0800e+02, 4.0700e+02, 3.6200e+02,\n",
       "        2.7800e+02, 1.9900e+02, 2.4400e+02, 2.0000e+02, 1.6200e+02,\n",
       "        1.0400e+02, 1.3000e+02, 6.9000e+01, 1.6900e+02]),\n",
       " array([10., 11., 12., 13., 14., 15., 16., 17., 18., 19., 20., 21., 22.,\n",
       "        23., 24., 25., 26., 27., 28., 29., 30., 31., 32., 33., 34., 35.,\n",
       "        36., 37., 38., 39., 40., 41., 42., 43., 44., 45., 46., 47., 48.,\n",
       "        49., 50., 51., 52., 53., 54., 55., 56., 57., 58., 59.]),\n",
       " <BarContainer object of 49 artists>)"
      ]
     },
     "execution_count": 19,
     "metadata": {},
     "output_type": "execute_result"
    },
    {
     "data": {
      "image/png": "[encoded data removed]",
      "text/plain": [
       "<Figure size 1200x400 with 1 Axes>"
      ]
     },
     "metadata": {},
     "output_type": "display_data"
    }
   ],
   "source": [
    "#Show the age distribution of player using histogram.\n",
    "plt.figure(figsize=(12,4))\n",
    "plt.hist(df.Age, bins=np.arange(10,60), color='Green',edgecolor='White')"
   ]
  },
  {
   "cell_type": "code",
   "execution_count": 20,
   "id": "e5c2be16",
   "metadata": {},
   "outputs": [
    {
     "name": "stdout",
     "output_type": "stream",
     "text": [
      "Speed Skating\n",
      "Short Track Speed Skating\n",
      "Curling\n",
      "Figure Skating\n",
      "Snowboarding\n",
      "Cross Country Skiing\n",
      "Ice Hockey\n",
      "Freestyle Skiing\n",
      "Alpine Skiing\n",
      "Biathlon\n",
      "Ski Jumping\n",
      "Bobsleigh\n",
      "Nordic Combined\n",
      "Skeleton\n",
      "Luge\n",
      "Military Ski Patrol\n",
      "Alpinism\n"
     ]
    }
   ],
   "source": [
    "#Print the name of sports played in winter olympic.\n",
    "winter_games= df[df['Season']=='Winter'].Sport.unique()\n",
    "for i in winter_games:\n",
    "    print(i)"
   ]
  },
  {
   "cell_type": "code",
   "execution_count": 21,
   "id": "07d2e0eb",
   "metadata": {},
   "outputs": [
    {
     "name": "stdout",
     "output_type": "stream",
     "text": [
      "['Basketball' 'Judo' 'Boxing' 'Wrestling' 'Swimming' 'Softball' 'Hockey'\n",
      " 'Archery' 'Triathlon' 'Football' 'Rhythmic Gymnastics' 'Athletics'\n",
      " 'Badminton' 'Fencing' 'Gymnastics' 'Volleyball' 'Baseball' 'Water Polo'\n",
      " 'Shooting' 'Weightlifting' 'Cycling' 'Rowing' 'Sailing' 'Diving'\n",
      " 'Modern Pentathlon' 'Art Competitions' 'Synchronized Swimming' 'Handball'\n",
      " 'Canoeing' 'Table Tennis' 'Tennis' 'Taekwondo' 'Beach Volleyball'\n",
      " 'Trampolining' 'Golf' 'Equestrianism' 'Tug-Of-War' 'Polo' 'Rugby Sevens'\n",
      " 'Ice Hockey' 'Figure Skating' 'Roque' 'Rugby' 'Lacrosse' 'Jeu De Paume'\n",
      " 'Cricket' 'Croquet' 'Motorboating' 'Basque Pelota' 'Alpinism'\n",
      " 'Aeronautics' 'Racquets']\n"
     ]
    }
   ],
   "source": [
    "#Print the names of the sports played in summer olympic.\n",
    "summer_games= [df[df['Season']=='Summer'].Sport.unique()]\n",
    "for i in summer_games:\n",
    "    print(i)"
   ]
  },
  {
   "cell_type": "code",
   "execution_count": 22,
   "id": "e501286c",
   "metadata": {},
   "outputs": [
    {
     "name": "stdout",
     "output_type": "stream",
     "text": [
      "72\n",
      "27\n",
      "male to female participation ratio in olympic is {male_ratio}:{female_ratio}\n"
     ]
    }
   ],
   "source": [
    "#Ratio of male Vs female participats in the olympic history.\n",
    "male_counts= df['Sex'][df['Sex']=='M'].count()\n",
    "female_counts= df['Sex'][df['Sex']=='F'].count()\n",
    "total_counts= df['Sex'].count()\n",
    "\n",
    "male_ratio= int((male_counts/total_counts)*100)\n",
    "female_ratio=int((female_counts/total_counts)*100)\n",
    "print(male_ratio)\n",
    "print(female_ratio)\n",
    "print(\"male to female participation ratio in olympic is {male_ratio}:{female_ratio}\")"
   ]
  },
  {
   "cell_type": "code",
   "execution_count": 23,
   "id": "37ac0548",
   "metadata": {},
   "outputs": [
    {
     "data": {
      "image/png": "[encoded data removed]",
      "text/plain": [
       "<Figure size 1000x500 with 1 Axes>"
      ]
     },
     "metadata": {},
     "output_type": "display_data"
    }
   ],
   "source": [
    "#Pie chart of gender distribution of olympic participation.\n",
    "gender_counts = df['Sex'].value_counts()\n",
    "plt.figure(figsize=(10,5))\n",
    "plt.pie(gender_counts, labels=gender_counts.index, autopct='%1.1f%%', shadow=True)\n",
    "plt.title(\"Male and female paticipation ratio in olympic since it started\", color='k')\n",
    "plt.show()"
   ]
  },
  {
   "cell_type": "code",
   "execution_count": 24,
   "id": "1e6ecd0c",
   "metadata": {},
   "outputs": [
    {
     "name": "stdout",
     "output_type": "stream",
     "text": [
      "male to female participation ratio in olympic after 1950 is 56:26\n"
     ]
    }
   ],
   "source": [
    "#Ratio of male vs female participants after 1950.\n",
    "male_counts= df['Sex'][df['Sex']=='M'][df.Year > 1950].count()\n",
    "female_counts= df['Sex'][df['Sex']=='F'][df.Year > 1950].count()\n",
    "\n",
    "male_ratio= int((male_counts/total_counts)*100)\n",
    "female_ratio= int((female_counts/total_counts)*100)\n",
    "print(f\"male to female participation ratio in olympic after 1950 is {male_ratio}:{female_ratio}\")"
   ]
  },
  {
   "cell_type": "code",
   "execution_count": 25,
   "id": "f0b868b5",
   "metadata": {},
   "outputs": [
    {
     "name": "stdout",
     "output_type": "stream",
     "text": [
      "Male-female ratio in Athina(1896) is 72 : 27 & the gap is 45\n",
      "Male-female ratio in Paris(1900) is 71 : 27 & the gap is 44\n",
      "Male-female ratio in St. Louis(1904) is 71 : 27 & the gap is 44\n",
      "Male-female ratio in London(1908) is 69 : 27 & the gap is 42\n",
      "Male-female ratio in Stockholm(1912) is 67 : 27 & the gap is 40\n",
      "Male-female ratio in Unknown(1916) is 67 : 27 & the gap is 40\n",
      "Male-female ratio in Antwerpen(1920) is 66 : 27 & the gap is 39\n",
      "Male-female ratio in Paris(1924) is 64 : 27 & the gap is 37\n",
      "Male-female ratio in Amsterdam(1928) is 62 : 27 & the gap is 35\n",
      "Male-female ratio in Los Angeles(1932) is 61 : 26 & the gap is 35\n",
      "Male-female ratio in Berlin(1936) is 58 : 26 & the gap is 32\n",
      "Male-female ratio in Unknown(1940) is 58 : 26 & the gap is 32\n",
      "Male-female ratio in Unknown(1944) is 58 : 26 & the gap is 32\n",
      "Male-female ratio in London(1948) is 56 : 26 & the gap is 30\n",
      "Male-female ratio in Helsinki(1952) is 53 : 25 & the gap is 28\n",
      "Male-female ratio in Stockholm(1956) is 51 : 25 & the gap is 26\n",
      "Male-female ratio in Roma(1960) is 48 : 24 & the gap is 24\n",
      "Male-female ratio in Tokyo(1964) is 46 : 24 & the gap is 22\n",
      "Male-female ratio in Mexico City(1968) is 42 : 23 & the gap is 19\n",
      "Male-female ratio in Munich(1972) is 39 : 22 & the gap is 17\n",
      "Male-female ratio in Montreal(1976) is 36 : 21 & the gap is 15\n",
      "Male-female ratio in Lake Placid(1980) is 34 : 20 & the gap is 14\n",
      "Male-female ratio in Los Angeles(1984) is 30 : 19 & the gap is 11\n",
      "Male-female ratio in Seoul(1988) is 27 : 17 & the gap is 10\n",
      "Male-female ratio in Barcelona(1992) is 22 : 16 & the gap is 6\n",
      "Male-female ratio in Atlanta(1996) is 18 : 13 & the gap is 5\n",
      "Male-female ratio in Sydney(2000) is 15 : 11 & the gap is 4\n",
      "Male-female ratio in Athina(2004) is 11 : 8 & the gap is 3\n",
      "Male-female ratio in Beijing(2008) is 7 : 5 & the gap is 2\n",
      "Male-female ratio in London(2012) is 3 : 3 & the gap is 0\n",
      "Male-female ratio in Rio de Janeiro(2016) is 0 : 0 & the gap is 0\n"
     ]
    }
   ],
   "source": [
    "#Male-female participation on each olympic and the gap between them.\n",
    "Year=np.arange(1896,2017,4).tolist()\n",
    "\n",
    "for i in Year:\n",
    "    \n",
    "    male_counts = df[\"Sex\"][df[\"Sex\"]=='M'][df[\"Year\"]>i].count()\n",
    "    female_counts = df[\"Sex\"][df[\"Sex\"]=='F'][df[\"Year\"]>i].count()\n",
    "    male_ratio = int((male_counts/total_counts)*100)\n",
    "    female_ratio = int((female_counts/total_counts)*100)\n",
    "    gap = male_ratio - female_ratio\n",
    "    try:\n",
    "        venue = df.City[df.Year==i].unique()[0]\n",
    "    except:\n",
    "        venue = 'Unknown'\n",
    "    print(f\"Male-female ratio in {venue}({i}) is {male_ratio} : {female_ratio} & the gap is {gap}\")"
   ]
  },
  {
   "cell_type": "code",
   "execution_count": 26,
   "id": "cb6ba240",
   "metadata": {},
   "outputs": [
    {
     "data": {
      "image/png": "[encoded data removed]",
      "text/plain": [
       "<Figure size 1500x600 with 1 Axes>"
      ]
     },
     "metadata": {},
     "output_type": "display_data"
    }
   ],
   "source": [
    "#Grapgical representation of male-female participation ratio in olympic since 1896.\n",
    "plt.figure(figsize=(15,6))\n",
    "plt.title(\"Graphical presentation of male-female paticipation ratio in olympic\")\n",
    "plt.xlabel(\"Year\")\n",
    "plt.ylabel(\"Gap of male-female participation ratio\")\n",
    "plt.yticks(np.arange(0,50,3))\n",
    "plt.xticks(np.arange(1896,2016,8))\n",
    "for i in Year:\n",
    "    \n",
    "    male_counts = df[\"Sex\"][df[\"Sex\"]=='M'][df[\"Year\"]>i].count()\n",
    "    female_counts = df[\"Sex\"][df[\"Sex\"]=='F'][df[\"Year\"]>i].count()\n",
    "    male_ratio = int((male_counts/total_counts)*100)\n",
    "    female_ratio = int((female_counts/total_counts)*100)\n",
    "    gap = int(male_ratio - female_ratio)\n",
    "    \n",
    "    plt.bar(i,gap)\n",
    "    \n",
    "plt.show()"
   ]
  },
  {
   "cell_type": "markdown",
   "id": "30ae1642",
   "metadata": {},
   "source": [
    "**Conclusion**\n",
    "- At the time when olympic were started in (1896) there was large gap in male-female participation ratio i.e 45.\n",
    "- With time the male-female participation ratio keeps decreasing.\n",
    "- In the year of 1952 the gap was around 25.\n",
    "- By the end of 20th century the gap came down to just 4-5.\n",
    "- In the year 2012 first time in the olympic history the male-female participation ratio became 0."
   ]
  },
  {
   "cell_type": "code",
   "execution_count": 27,
   "id": "b53b4ce4",
   "metadata": {},
   "outputs": [
    {
     "data": {
      "text/html": [
       "<div>\n",
       "<style scoped>\n",
       "    .dataframe tbody tr th:only-of-type {\n",
       "        vertical-align: middle;\n",
       "    }\n",
       "\n",
       "    .dataframe tbody tr th {\n",
       "        vertical-align: top;\n",
       "    }\n",
       "\n",
       "    .dataframe thead th {\n",
       "        text-align: right;\n",
       "    }\n",
       "</style>\n",
       "<table border=\"1\" class=\"dataframe\">\n",
       "  <thead>\n",
       "    <tr style=\"text-align: right;\">\n",
       "      <th></th>\n",
       "      <th>Year</th>\n",
       "      <th>Sex</th>\n",
       "    </tr>\n",
       "  </thead>\n",
       "  <tbody>\n",
       "    <tr>\n",
       "      <th>23</th>\n",
       "      <td>2000</td>\n",
       "      <td>5418</td>\n",
       "    </tr>\n",
       "    <tr>\n",
       "      <th>24</th>\n",
       "      <td>2004</td>\n",
       "      <td>5531</td>\n",
       "    </tr>\n",
       "    <tr>\n",
       "      <th>25</th>\n",
       "      <td>2008</td>\n",
       "      <td>5793</td>\n",
       "    </tr>\n",
       "    <tr>\n",
       "      <th>26</th>\n",
       "      <td>2012</td>\n",
       "      <td>5791</td>\n",
       "    </tr>\n",
       "    <tr>\n",
       "      <th>27</th>\n",
       "      <td>2016</td>\n",
       "      <td>6203</td>\n",
       "    </tr>\n",
       "  </tbody>\n",
       "</table>\n",
       "</div>"
      ],
      "text/plain": [
       "    Year   Sex\n",
       "23  2000  5418\n",
       "24  2004  5531\n",
       "25  2008  5793\n",
       "26  2012  5791\n",
       "27  2016  6203"
      ]
     },
     "execution_count": 27,
     "metadata": {},
     "output_type": "execute_result"
    }
   ],
   "source": [
    "#Find the total no of female participants in each summer olympic.\n",
    "female_athletes = df[(df[\"Sex\"]=='F') & (df[\"Season\"]=='Summer')][['Year', 'Sex']]\n",
    "female_athletes = female_athletes.groupby('Year').count().reset_index()\n",
    "female_athletes.tail()"
   ]
  },
  {
   "cell_type": "code",
   "execution_count": 28,
   "id": "51a1c734",
   "metadata": {},
   "outputs": [],
   "source": [
    "#Graphical representation of woman participation in summer olympic.\n",
    "woman_summer_df = df[(df[\"Sex\"]=='F') & (df[\"Season\"]=='Summer')]"
   ]
  },
  {
   "cell_type": "code",
   "execution_count": 29,
   "id": "9d88daa4",
   "metadata": {},
   "outputs": [
    {
     "data": {
      "image/png": "[encoded data removed]",
      "text/plain": [
       "<Figure size 1600x500 with 1 Axes>"
      ]
     },
     "metadata": {},
     "output_type": "display_data"
    }
   ],
   "source": [
    "sns.set(style='darkgrid')\n",
    "plt.figure(figsize=(16,5))\n",
    "sns.countplot(x='Year', data= woman_summer_df)\n",
    "plt.show()"
   ]
  },
  {
   "cell_type": "code",
   "execution_count": 30,
   "id": "c9d6111f",
   "metadata": {},
   "outputs": [
    {
     "data": {
      "text/html": [
       "<div>\n",
       "<style scoped>\n",
       "    .dataframe tbody tr th:only-of-type {\n",
       "        vertical-align: middle;\n",
       "    }\n",
       "\n",
       "    .dataframe tbody tr th {\n",
       "        vertical-align: top;\n",
       "    }\n",
       "\n",
       "    .dataframe thead th {\n",
       "        text-align: right;\n",
       "    }\n",
       "</style>\n",
       "<table border=\"1\" class=\"dataframe\">\n",
       "  <thead>\n",
       "    <tr style=\"text-align: right;\">\n",
       "      <th></th>\n",
       "      <th>Year</th>\n",
       "      <th>Sex</th>\n",
       "    </tr>\n",
       "  </thead>\n",
       "  <tbody>\n",
       "    <tr>\n",
       "      <th>24</th>\n",
       "      <td>2000</td>\n",
       "      <td>8380</td>\n",
       "    </tr>\n",
       "    <tr>\n",
       "      <th>25</th>\n",
       "      <td>2004</td>\n",
       "      <td>7890</td>\n",
       "    </tr>\n",
       "    <tr>\n",
       "      <th>26</th>\n",
       "      <td>2008</td>\n",
       "      <td>7773</td>\n",
       "    </tr>\n",
       "    <tr>\n",
       "      <th>27</th>\n",
       "      <td>2012</td>\n",
       "      <td>7093</td>\n",
       "    </tr>\n",
       "    <tr>\n",
       "      <th>28</th>\n",
       "      <td>2016</td>\n",
       "      <td>7453</td>\n",
       "    </tr>\n",
       "  </tbody>\n",
       "</table>\n",
       "</div>"
      ],
      "text/plain": [
       "    Year   Sex\n",
       "24  2000  8380\n",
       "25  2004  7890\n",
       "26  2008  7773\n",
       "27  2012  7093\n",
       "28  2016  7453"
      ]
     },
     "execution_count": 30,
     "metadata": {},
     "output_type": "execute_result"
    }
   ],
   "source": [
    " #Find the total no of male participants in each summer olympic.\n",
    "male_athletes = df[(df[\"Sex\"]=='M') & (df[\"Season\"]=='Summer')][['Year', 'Sex']]\n",
    "male_athletes = male_athletes.groupby('Year').count().reset_index()\n",
    "male_athletes.tail()"
   ]
  },
  {
   "cell_type": "code",
   "execution_count": 31,
   "id": "51bd6b04",
   "metadata": {},
   "outputs": [],
   "source": [
    "#Grapgical representation of men partiipation in summer olympic.\n",
    "men_summer_df = df[(df[\"Sex\"]=='M') & (df[\"Season\"]=='Summer')]"
   ]
  },
  {
   "cell_type": "code",
   "execution_count": 32,
   "id": "a5aa9d6f",
   "metadata": {},
   "outputs": [
    {
     "data": {
      "image/png": "[encoded data removed]",
      "text/plain": [
       "<Figure size 1600x500 with 1 Axes>"
      ]
     },
     "metadata": {},
     "output_type": "display_data"
    }
   ],
   "source": [
    "sns.set(style='darkgrid')\n",
    "plt.figure(figsize=(16,5))\n",
    "sns.countplot(x='Year', data= men_summer_df)\n",
    "plt.show()"
   ]
  },
  {
   "cell_type": "code",
   "execution_count": 33,
   "id": "bf1517f6",
   "metadata": {},
   "outputs": [
    {
     "data": {
      "image/png": "[encoded data removed]",
      "text/plain": [
       "<Figure size 1500x600 with 1 Axes>"
      ]
     },
     "metadata": {},
     "output_type": "display_data"
    }
   ],
   "source": [
    " #Find the total no of male participants in each summer olympic.\n",
    "male_participants_yearwise = df[(df[\"Sex\"]=='M') & (df[\"Season\"]=='Summer')][['Year', 'Sex']]\n",
    "male_participants_yearwise = male_participants_yearwise.groupby('Year').count()\n",
    "\n",
    "#Find the total no of female participants in each summer olympic.\n",
    "female_participants_yearwise = df[(df[\"Sex\"]=='F') & (df[\"Season\"]=='Summer')][['Year', 'Sex']]\n",
    "female_participants_yearwise = female_participants_yearwise.groupby('Year').count()\n",
    "\n",
    "#Plotting a linr graph for comparing male-female participation in summer olympic.\n",
    "plt.figure(figsize=(15,6))\n",
    "plt.plot(male_participants_yearwise['Sex'], label='Male')\n",
    "plt.plot(female_participants_yearwise['Sex'], label='Female')\n",
    "plt.title(\"Comparison of male-female participation in summer olympics with time\")\n",
    "plt.legend()\n",
    "plt.show()\n"
   ]
  },
  {
   "cell_type": "code",
   "execution_count": 34,
   "id": "f3f521bf",
   "metadata": {},
   "outputs": [
    {
     "data": {
      "text/html": [
       "<div>\n",
       "<style scoped>\n",
       "    .dataframe tbody tr th:only-of-type {\n",
       "        vertical-align: middle;\n",
       "    }\n",
       "\n",
       "    .dataframe tbody tr th {\n",
       "        vertical-align: top;\n",
       "    }\n",
       "\n",
       "    .dataframe thead th {\n",
       "        text-align: right;\n",
       "    }\n",
       "</style>\n",
       "<table border=\"1\" class=\"dataframe\">\n",
       "  <thead>\n",
       "    <tr style=\"text-align: right;\">\n",
       "      <th></th>\n",
       "      <th>Team</th>\n",
       "      <th>Medal</th>\n",
       "    </tr>\n",
       "  </thead>\n",
       "  <tbody>\n",
       "    <tr>\n",
       "      <th>0</th>\n",
       "      <td>United States</td>\n",
       "      <td>5219</td>\n",
       "    </tr>\n",
       "    <tr>\n",
       "      <th>1</th>\n",
       "      <td>Soviet Union</td>\n",
       "      <td>2451</td>\n",
       "    </tr>\n",
       "    <tr>\n",
       "      <th>2</th>\n",
       "      <td>Germany</td>\n",
       "      <td>1984</td>\n",
       "    </tr>\n",
       "    <tr>\n",
       "      <th>3</th>\n",
       "      <td>Great Britain</td>\n",
       "      <td>1673</td>\n",
       "    </tr>\n",
       "    <tr>\n",
       "      <th>4</th>\n",
       "      <td>France</td>\n",
       "      <td>1550</td>\n",
       "    </tr>\n",
       "    <tr>\n",
       "      <th>5</th>\n",
       "      <td>Italy</td>\n",
       "      <td>1527</td>\n",
       "    </tr>\n",
       "    <tr>\n",
       "      <th>6</th>\n",
       "      <td>Sweden</td>\n",
       "      <td>1434</td>\n",
       "    </tr>\n",
       "    <tr>\n",
       "      <th>7</th>\n",
       "      <td>Australia</td>\n",
       "      <td>1306</td>\n",
       "    </tr>\n",
       "    <tr>\n",
       "      <th>8</th>\n",
       "      <td>Canada</td>\n",
       "      <td>1243</td>\n",
       "    </tr>\n",
       "    <tr>\n",
       "      <th>9</th>\n",
       "      <td>Hungary</td>\n",
       "      <td>1127</td>\n",
       "    </tr>\n",
       "  </tbody>\n",
       "</table>\n",
       "</div>"
      ],
      "text/plain": [
       "            Team  Medal\n",
       "0  United States   5219\n",
       "1   Soviet Union   2451\n",
       "2        Germany   1984\n",
       "3  Great Britain   1673\n",
       "4         France   1550\n",
       "5          Italy   1527\n",
       "6         Sweden   1434\n",
       "7      Australia   1306\n",
       "8         Canada   1243\n",
       "9        Hungary   1127"
      ]
     },
     "execution_count": 34,
     "metadata": {},
     "output_type": "execute_result"
    }
   ],
   "source": [
    "#Find the top 10 countries with most no of medals.\n",
    "top_countries_with_medals = df[['Team','Medal']]\n",
    "top_countries_with_medals = top_countries_with_medals.groupby('Team').count().sort_values(by = 'Medal', ascending=False).reset_index()\n",
    "top_10_countries_with_medals = top_countries_with_medals.head(10)\n",
    "top_10_countries_with_medals"
   ]
  },
  {
   "cell_type": "code",
   "execution_count": 35,
   "id": "fc669d1c",
   "metadata": {},
   "outputs": [
    {
     "data": {
      "image/png": "[encoded data removed]",
      "text/plain": [
       "<Figure size 1500x400 with 1 Axes>"
      ]
     },
     "metadata": {},
     "output_type": "display_data"
    }
   ],
   "source": [
    "#Graphical representation of top 10 countries with most no of medals.\n",
    "plt.figure(figsize=(15,4))\n",
    "sns.barplot(x=top_10_countries_with_medals[\"Team\"], y=top_countries_with_medals['Medal'])\n",
    "plt.title(\"Top 10 countries wining most no of medals\")\n",
    "plt.show()"
   ]
  },
  {
   "cell_type": "code",
   "execution_count": 36,
   "id": "b1a75ab4",
   "metadata": {},
   "outputs": [
    {
     "data": {
      "text/html": [
       "<div>\n",
       "<style scoped>\n",
       "    .dataframe tbody tr th:only-of-type {\n",
       "        vertical-align: middle;\n",
       "    }\n",
       "\n",
       "    .dataframe tbody tr th {\n",
       "        vertical-align: top;\n",
       "    }\n",
       "\n",
       "    .dataframe thead th {\n",
       "        text-align: right;\n",
       "    }\n",
       "</style>\n",
       "<table border=\"1\" class=\"dataframe\">\n",
       "  <thead>\n",
       "    <tr style=\"text-align: right;\">\n",
       "      <th></th>\n",
       "      <th>Name</th>\n",
       "      <th>Age</th>\n",
       "      <th>Team</th>\n",
       "      <th>Sport</th>\n",
       "      <th>Medal</th>\n",
       "    </tr>\n",
       "  </thead>\n",
       "  <tbody>\n",
       "    <tr>\n",
       "      <th>7391</th>\n",
       "      <td>Anders Peter Nielsen</td>\n",
       "      <td>52.0</td>\n",
       "      <td>Denmark</td>\n",
       "      <td>Shooting</td>\n",
       "      <td>Gold</td>\n",
       "    </tr>\n",
       "    <tr>\n",
       "      <th>10718</th>\n",
       "      <td>Isaac Lazarus Israls</td>\n",
       "      <td>63.0</td>\n",
       "      <td>Netherlands</td>\n",
       "      <td>Art Competitions</td>\n",
       "      <td>Gold</td>\n",
       "    </tr>\n",
       "    <tr>\n",
       "      <th>12975</th>\n",
       "      <td>Hendrikus \"Driekske\" van Bussel</td>\n",
       "      <td>51.0</td>\n",
       "      <td>Netherlands</td>\n",
       "      <td>Archery</td>\n",
       "      <td>Gold</td>\n",
       "    </tr>\n",
       "    <tr>\n",
       "      <th>19305</th>\n",
       "      <td>Everard Coenraad Endt</td>\n",
       "      <td>59.0</td>\n",
       "      <td>Llanoria</td>\n",
       "      <td>Sailing</td>\n",
       "      <td>Gold</td>\n",
       "    </tr>\n",
       "    <tr>\n",
       "      <th>22547</th>\n",
       "      <td>Charles Jacobus</td>\n",
       "      <td>64.0</td>\n",
       "      <td>United States</td>\n",
       "      <td>Roque</td>\n",
       "      <td>Gold</td>\n",
       "    </tr>\n",
       "  </tbody>\n",
       "</table>\n",
       "</div>"
      ],
      "text/plain": [
       "                                  Name   Age           Team             Sport  \\\n",
       "7391              Anders Peter Nielsen  52.0        Denmark          Shooting   \n",
       "10718             Isaac Lazarus Israls  63.0    Netherlands  Art Competitions   \n",
       "12975  Hendrikus \"Driekske\" van Bussel  51.0    Netherlands           Archery   \n",
       "19305            Everard Coenraad Endt  59.0       Llanoria           Sailing   \n",
       "22547                  Charles Jacobus  64.0  United States             Roque   \n",
       "\n",
       "      Medal  \n",
       "7391   Gold  \n",
       "10718  Gold  \n",
       "12975  Gold  \n",
       "19305  Gold  \n",
       "22547  Gold  "
      ]
     },
     "execution_count": 36,
     "metadata": {},
     "output_type": "execute_result"
    }
   ],
   "source": [
    "#Find the details of those players who won the gold medal & older than 50 years.\n",
    "df_goldmedelist_above_50 = df[(df[\"Age\"] > 50) & (df[\"Medal\"]=='Gold')][[\"Name\",\"Age\",\"Team\",\"Sport\",\"Medal\"]]\n",
    "df_goldmedelist_above_50.head()"
   ]
  },
  {
   "cell_type": "code",
   "execution_count": 37,
   "id": "ab81466e",
   "metadata": {},
   "outputs": [
    {
     "data": {
      "text/html": [
       "<div>\n",
       "<style scoped>\n",
       "    .dataframe tbody tr th:only-of-type {\n",
       "        vertical-align: middle;\n",
       "    }\n",
       "\n",
       "    .dataframe tbody tr th {\n",
       "        vertical-align: top;\n",
       "    }\n",
       "\n",
       "    .dataframe thead th {\n",
       "        text-align: right;\n",
       "    }\n",
       "</style>\n",
       "<table border=\"1\" class=\"dataframe\">\n",
       "  <thead>\n",
       "    <tr style=\"text-align: right;\">\n",
       "      <th></th>\n",
       "      <th>ID</th>\n",
       "      <th>Name</th>\n",
       "      <th>Sex</th>\n",
       "      <th>Age</th>\n",
       "      <th>Height</th>\n",
       "      <th>Weight</th>\n",
       "      <th>Team</th>\n",
       "      <th>NOC</th>\n",
       "      <th>Games</th>\n",
       "      <th>Year</th>\n",
       "      <th>Season</th>\n",
       "      <th>City</th>\n",
       "      <th>Sport</th>\n",
       "      <th>Event</th>\n",
       "      <th>Medal</th>\n",
       "      <th>Region</th>\n",
       "      <th>Notes</th>\n",
       "    </tr>\n",
       "  </thead>\n",
       "  <tbody>\n",
       "    <tr>\n",
       "      <th>0</th>\n",
       "      <td>1</td>\n",
       "      <td>A Dijiang</td>\n",
       "      <td>M</td>\n",
       "      <td>24.0</td>\n",
       "      <td>180.0</td>\n",
       "      <td>80.0</td>\n",
       "      <td>China</td>\n",
       "      <td>CHN</td>\n",
       "      <td>1992 Summer</td>\n",
       "      <td>1992</td>\n",
       "      <td>Summer</td>\n",
       "      <td>Barcelona</td>\n",
       "      <td>Basketball</td>\n",
       "      <td>Basketball Men's Basketball</td>\n",
       "      <td>NaN</td>\n",
       "      <td>China</td>\n",
       "      <td>NaN</td>\n",
       "    </tr>\n",
       "    <tr>\n",
       "      <th>1</th>\n",
       "      <td>2</td>\n",
       "      <td>A Lamusi</td>\n",
       "      <td>M</td>\n",
       "      <td>23.0</td>\n",
       "      <td>170.0</td>\n",
       "      <td>60.0</td>\n",
       "      <td>China</td>\n",
       "      <td>CHN</td>\n",
       "      <td>2012 Summer</td>\n",
       "      <td>2012</td>\n",
       "      <td>Summer</td>\n",
       "      <td>London</td>\n",
       "      <td>Judo</td>\n",
       "      <td>Judo Men's Extra-Lightweight</td>\n",
       "      <td>NaN</td>\n",
       "      <td>China</td>\n",
       "      <td>NaN</td>\n",
       "    </tr>\n",
       "  </tbody>\n",
       "</table>\n",
       "</div>"
      ],
      "text/plain": [
       "   ID       Name Sex   Age  Height  Weight   Team  NOC        Games  Year  \\\n",
       "0   1  A Dijiang   M  24.0   180.0    80.0  China  CHN  1992 Summer  1992   \n",
       "1   2   A Lamusi   M  23.0   170.0    60.0  China  CHN  2012 Summer  2012   \n",
       "\n",
       "   Season       City       Sport                         Event Medal Region  \\\n",
       "0  Summer  Barcelona  Basketball   Basketball Men's Basketball   NaN  China   \n",
       "1  Summer     London        Judo  Judo Men's Extra-Lightweight   NaN  China   \n",
       "\n",
       "  Notes  \n",
       "0   NaN  \n",
       "1   NaN  "
      ]
     },
     "execution_count": 37,
     "metadata": {},
     "output_type": "execute_result"
    }
   ],
   "source": [
    "df.head(2)"
   ]
  },
  {
   "cell_type": "code",
   "execution_count": 38,
   "id": "89fc3ba9",
   "metadata": {},
   "outputs": [
    {
     "name": "stdout",
     "output_type": "stream",
     "text": [
      "13371\n"
     ]
    }
   ],
   "source": [
    "#Find how many gold medals won by male-female players.\n",
    "gold_medalist = df[df[\"Medal\"]==\"Gold\"][\"Medal\"].count()\n",
    "print(gold_medalist)"
   ]
  },
  {
   "cell_type": "code",
   "execution_count": 39,
   "id": "eb5d9eab",
   "metadata": {},
   "outputs": [
    {
     "name": "stdout",
     "output_type": "stream",
     "text": [
      "Male players won total 9624 gold medals.\n",
      "Female players won total 3747 gold medals.\n"
     ]
    }
   ],
   "source": [
    "#Find the total no of gold medal won by male & female.(Genderwise)\n",
    "male_gold_medalist = df[(df[\"Sex\"]=='M') & (df[\"Medal\"]=='Gold')][\"Medal\"].count()\n",
    "female_gold_medalist = df[(df[\"Sex\"]=='F') & (df[\"Medal\"]=='Gold')][\"Medal\"].count()\n",
    "print(\"Male players won total\",male_gold_medalist,\"gold medals.\")\n",
    "print(\"Female players won total\",female_gold_medalist,\"gold medals.\") "
   ]
  },
  {
   "cell_type": "code",
   "execution_count": 44,
   "id": "86eec51b",
   "metadata": {},
   "outputs": [
    {
     "name": "stdout",
     "output_type": "stream",
     "text": [
      "13291\n"
     ]
    }
   ],
   "source": [
    "#Find how many bronze medals won by male-female players.\n",
    "bronze_medalist = df[df[\"Medal\"]==\"Bronze\"][\"Medal\"].count()\n",
    "print(bronze_medalist)"
   ]
  },
  {
   "cell_type": "code",
   "execution_count": 41,
   "id": "710a7626",
   "metadata": {},
   "outputs": [
    {
     "name": "stdout",
     "output_type": "stream",
     "text": [
      "Male players won total 9524 bronze medals.\n",
      "Female players won total 3767 bronze medals.\n"
     ]
    }
   ],
   "source": [
    "#Find the total no of bronze medal won by male & female.(GEnderwise)\n",
    "male_bronze_medalist = df[(df[\"Sex\"]=='M') & (df[\"Medal\"]=='Bronze')][\"Medal\"].count()\n",
    "female_bronze_medalist = df[(df[\"Sex\"]=='F') & (df[\"Medal\"]=='Bronze')][\"Medal\"].count()\n",
    "print(\"Male players won total\",male_bronze_medalist,\"bronze medals.\")\n",
    "print(\"Female players won total\",female_bronze_medalist,\"bronze medals.\") "
   ]
  },
  {
   "cell_type": "code",
   "execution_count": 45,
   "id": "3799c79a",
   "metadata": {},
   "outputs": [
    {
     "name": "stdout",
     "output_type": "stream",
     "text": [
      "13112\n"
     ]
    }
   ],
   "source": [
    "#Find how many silver medals won by male-female players.\n",
    "silver_medalist = df[df[\"Medal\"]==\"Silver\"][\"Medal\"].count()\n",
    "print(silver_medalist)"
   ]
  },
  {
   "cell_type": "code",
   "execution_count": 43,
   "id": "49c55547",
   "metadata": {},
   "outputs": [
    {
     "name": "stdout",
     "output_type": "stream",
     "text": [
      "Male players won total 9380 silver medals.\n",
      "Female players won total 3732 silver medals.\n"
     ]
    }
   ],
   "source": [
    "#Find the total no of silver medal won by male & female.(Genderwise)\n",
    "male_silver_medalist = df[(df[\"Sex\"]=='M') & (df[\"Medal\"]=='Silver')][\"Medal\"].count()\n",
    "female_silver_medalist = df[(df[\"Sex\"]=='F') & (df[\"Medal\"]=='Silver')][\"Medal\"].count()\n",
    "print(\"Male players won total\",male_silver_medalist,\"silver medals.\")\n",
    "print(\"Female players won total\",female_silver_medalist,\"silver medals.\") "
   ]
  },
  {
   "cell_type": "code",
   "execution_count": null,
   "id": "830e0bf7",
   "metadata": {},
   "outputs": [],
   "source": []
  }
 ],
 "metadata": {
  "kernelspec": {
   "display_name": "Python 3 (ipykernel)",
   "language": "python",
   "name": "python3"
  },
  "language_info": {
   "codemirror_mode": {
    "name": "ipython",
    "version": 3
   },
   "file_extension": ".py",
   "mimetype": "text/x-python",
   "name": "python",
   "nbconvert_exporter": "python",
   "pygments_lexer": "ipython3",
   "version": "3.10.9"
  }
 },
 "nbformat": 4,
 "nbformat_minor": 5
}
